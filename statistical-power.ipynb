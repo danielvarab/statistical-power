{
 "cells": [
  {
   "cell_type": "markdown",
   "metadata": {},
   "source": [
    "# With Little Power Comes Great Responsibility\n",
    "\n",
    "The definition of statistical power of a hypthesis test:\n",
    "> the probability that, given a real effect, an experiment will reject the null hypothesis\n",
    "\n",
    "or \n",
    "\n",
    "> the probability that a statistical test will successfully detect a true effect.\n",
    "\n",
    "or in math\n",
    "\n",
    "$\n",
    "\\begin{align}\n",
    "A &= \\text{test shows significance} \\\\\n",
    "B &= \\text{there is a true effect} \\\\\n",
    "P(A|B) &= \\text{statistical power}\n",
    "\\end{align}\n",
    "$\n",
    "\n",
    "## lingo\n",
    "\n",
    "effect sizes = difference between the novel model and the best-performing baseline\n",
    "underpowered = power less than 80%"
   ]
  },
  {
   "cell_type": "markdown",
   "metadata": {},
   "source": [
    "## 1. Introduction\n",
    "\n",
    "> If it is the case that typical experiments in NLP are underpowered, not only would we expect **many meaningful improve- ments to go undetected**, we would also expect **many apparently significant differences to be exaggerated** (Gelman and Carlin, 2014).\n",
    "\n",
    "- Power depends on multiple factors, including the statistical test used, the significance threshold, true effect size, variance, and sample size.\n",
    "- Power should be computed prior to testing as it determines the minimum requirements for the test.\n",
    "- Larger effects and those with less variance are easier to detect, and require fewer samples for equivalent power.\n",
    "- With underpowered experiments...\n",
    "  - true effects go undetected; when significant effects are found, they are likely to be noisier and have lower positive predictive value\n",
    "  - experiments are more likely to exaggerate or reverse the true effect - Type-M (magnitude) and Type-S (sign) errors\n",
    "- Among human evaluations, we find most experimental designs involve too few items and/or raters to detect small effects\n",
    "- We find that some widely used benchmark datasets, including MRPC and SST-2, are now too small to be able to properly measure future progress against top performing models\n",
    "\n",
    "\n",
    "## 2. Power Analysis for NLP\n",
    "- Because most NLP tasks do not take the form of standard experiments in other sciences (Kraemer and Blasey, 2015; Westfall et al., 2014), it is non- trivial to run power analyses for many tasks of interest.\n",
    "- We present here a generalizable, simulation-based approach to power analysis, along with three sam- ple applications, which can be extended as neces- sary.\n",
    "- [...] In the case of NLP, this means that one recruits enough subjects, collects enough ratings, or uses a large enough test set.\n",
    "\n",
    "The general prodecure is as follows:\n",
    "1. begin with the end in mind.\n",
    "2. If one plans to test for a difference between models, one needs to choose the statistical test that will be used. That test will determine the level of detail required in the generative process for simulating data.\n",
    "3. \n",
    "\n",
    "## 3 Comparing Models on Accuracy\n",
    "\n",
    "- An important but rarely asked question is, can these benchmarks sup- port the kinds of comparisons we want to make?\n",
    "- Many emphasize the need for proper significance testing to avoid spurious findings\n",
    "- **BUT** If an experiment’s test set is small, the minimum detectable effect (MDE) size may be large: only large improvements will yield sufficiently powered comparisons (i.e., $\\ge$ 80% power).\n",
    "- If an experiment is badly underpowered, it cannot provide useful evidence that one model achieves slightly better performance than another for the underlying data distribution.\n",
    "\n",
    "\n",
    "### 3.2 Estimating parameters\n",
    "\n",
    "Three aproaches are suggested:\n",
    "1. Using the validation + test set\n",
    "2. Regress parameters\n",
    "3. Default routine\n",
    "\n",
    "### 4. Machine Translation"
   ]
  },
  {
   "cell_type": "code",
   "execution_count": 322,
   "metadata": {},
   "outputs": [],
   "source": [
    "import numpy as np\n",
    "import matplotlib.pyplot as plt\n",
    "from tqdm import tqdm"
   ]
  },
  {
   "cell_type": "code",
   "execution_count": 237,
   "metadata": {},
   "outputs": [],
   "source": [
    "from scipy import stats"
   ]
  },
  {
   "cell_type": "code",
   "execution_count": 459,
   "metadata": {},
   "outputs": [
    {
     "data": {
      "text/plain": [
       "0.1792"
      ]
     },
     "execution_count": 459,
     "metadata": {},
     "output_type": "execute_result"
    }
   ],
   "source": [
    "def compute_power(n, effect, iterations=5_000, delta=.05):\n",
    "    pvalues = []\n",
    "    for _ in range(iterations):\n",
    "        x = np.random.binomial(1, p=.5, size=n)\n",
    "        y = np.random.binomial(1, p=.5+effect, size=n)\n",
    "        if np.array_equal(x, y):  # these are discarded and throw a warning\n",
    "            continue\n",
    "        pvalues.append(wilcoxon(x, y).pvalue <= delta)\n",
    "    \n",
    "    return np.mean(pvalues)\n",
    "\n",
    "def plot_power(xs, powers, effect):\n",
    "    plt.plot(xs, powers)\n",
    "    #plt.title(\"$e*$ = %.1f\" % effect)\n",
    "    plt.xlabel(\"n\")\n",
    "    plt.ylabel(\"power\")\n",
    "    plt.hlines(0.8, 25, 150, linestyles=\"dotted\")\n",
    "\n",
    "compute_power(50, 0.1)"
   ]
  },
  {
   "cell_type": "code",
   "execution_count": 457,
   "metadata": {},
   "outputs": [],
   "source": [
    "import warnings\n",
    "warnings.filterwarnings('ignore') "
   ]
  },
  {
   "cell_type": "code",
   "execution_count": 460,
   "metadata": {},
   "outputs": [
    {
     "data": {
      "text/plain": [
       "<matplotlib.legend.Legend at 0x7fb911a61690>"
      ]
     },
     "execution_count": 460,
     "metadata": {},
     "output_type": "execute_result"
    },
    {
     "data": {
      "image/png": "[encoded data removed]",
      "text/plain": [
       "<Figure size 432x288 with 1 Axes>"
      ]
     },
     "metadata": {
      "needs_background": "light"
     },
     "output_type": "display_data"
    }
   ],
   "source": [
    "effects = [.1, .2, .3, .4]\n",
    "for effect in effects:\n",
    "    xs = []\n",
    "    powers = []\n",
    "    for n in range(25, 151, 25):\n",
    "        # print(n)\n",
    "        power = compute_power(n, effect, iterations=1_000)\n",
    "        powers.append(power)\n",
    "        xs.append(n)\n",
    "    plot_power(xs, powers, effect)\n",
    "plt.legend([\"$p = %.1f$\" % tmp for tmp in effects])"
   ]
  },
  {
   "cell_type": "code",
   "execution_count": null,
   "metadata": {},
   "outputs": [],
   "source": []
  }
 ],
 "metadata": {
  "kernelspec": {
   "display_name": "Python 3",
   "language": "python",
   "name": "python3"
  },
  "language_info": {
   "codemirror_mode": {
    "name": "ipython",
    "version": 3
   },
   "file_extension": ".py",
   "mimetype": "text/x-python",
   "name": "python",
   "nbconvert_exporter": "python",
   "pygments_lexer": "ipython3",
   "version": "3.7.6"
  }
 },
 "nbformat": 4,
 "nbformat_minor": 4
}
